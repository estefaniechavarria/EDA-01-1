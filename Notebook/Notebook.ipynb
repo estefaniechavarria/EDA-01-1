{
 "cells": [
  {
   "cell_type": "code",
   "execution_count": 1,
   "metadata": {},
   "outputs": [
    {
     "name": "stdout",
     "output_type": "stream",
     "text": [
      "Su equivalencia en metros es de:  3.6576000000000004\n"
     ]
    }
   ],
   "source": [
    "# Convertir de una cantidad dada en pies, a metros\n",
    "\n",
    "pies = int(input(\"Ingresa la cantidad a transformar en metro\"))\n",
    "resultado = pies * 0.3048\n",
    "print(\"Su equivalencia en metros es de: \", resultado)"
   ]
  },
  {
   "cell_type": "code",
   "execution_count": 2,
   "metadata": {},
   "outputs": [
    {
     "name": "stdout",
     "output_type": "stream",
     "text": [
      "Su equivalencia en pies es de:  9.144\n"
     ]
    }
   ],
   "source": [
    "# Convertir de una distancia dada en metros a pies\n",
    "\n",
    "cantidad = float(input(\"Ingresa la cantidad a convertir: \"))\n",
    "resultado = cantidad * 3.048\n",
    "print(\"Su equivalencia en pies es de: \", resultado)"
   ]
  },
  {
   "cell_type": "code",
   "execution_count": 3,
   "metadata": {},
   "outputs": [
    {
     "name": "stdout",
     "output_type": "stream",
     "text": [
      "La temperatura en grados Fahrenheiten es de:  75.2\n"
     ]
    }
   ],
   "source": [
    "#Convertir de una temperatura dada en Centígrados a Fahrenheit.\n",
    "\n",
    "cantidad = float(input(\"Ingresa la temperatura en grados centigrados: \"))\n",
    "resultado = cantidad * 9/5 + 32\n",
    "print(\"La temperatura en grados Fahrenheiten es de: \", resultado)"
   ]
  },
  {
   "cell_type": "code",
   "execution_count": 4,
   "metadata": {},
   "outputs": [
    {
     "name": "stdout",
     "output_type": "stream",
     "text": [
      "La temperatura en grados Celsius es de:  18.333333333333332\n"
     ]
    }
   ],
   "source": [
    "#Convertir de una temperatura dada en Fahrenheit a Centigrados.\n",
    "\n",
    "cantidad = float(input(\"Ingresa la temperatura en grados Fahrenheit: \"))\n",
    "resultado = (cantidad - 32) * 5/9\n",
    "print(\"La temperatura en grados Celsius es de: \", resultado)"
   ]
  }
 ],
 "metadata": {
  "kernelspec": {
   "display_name": "Python 3",
   "language": "python",
   "name": "python3"
  },
  "language_info": {
   "codemirror_mode": {
    "name": "ipython",
    "version": 3
   },
   "file_extension": ".py",
   "mimetype": "text/x-python",
   "name": "python",
   "nbconvert_exporter": "python",
   "pygments_lexer": "ipython3",
   "version": "3.12.0"
  }
 },
 "nbformat": 4,
 "nbformat_minor": 2
}
